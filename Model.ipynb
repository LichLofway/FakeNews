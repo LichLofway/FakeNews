{
  "nbformat": 4,
  "nbformat_minor": 0,
  "metadata": {
    "colab": {
      "provenance": []
    },
    "kernelspec": {
      "name": "python3",
      "display_name": "Python 3"
    },
    "language_info": {
      "name": "python"
    }
  },
  "cells": [
    {
      "cell_type": "code",
      "execution_count": 44,
      "metadata": {
        "id": "ZvR1DugU_vRR"
      },
      "outputs": [],
      "source": [
        "import pandas as pd\n",
        "import numpy as np"
      ]
    },
    {
      "cell_type": "code",
      "source": [
        "!wget -O Fake_True.csv https://www.dropbox.com/scl/fi/2m5ryuhbe47c1pvxdzb1s/Fake_True.csv?rlkey=26jlrf2aghxcrtcocsu1ftsyv&st=kmz5dlb2&dl=0"
      ],
      "metadata": {
        "colab": {
          "base_uri": "https://localhost:8080/"
        },
        "id": "ZDpoIPbS_xJo",
        "outputId": "7ce27c2b-91fa-469e-a240-67a1ba80744a"
      },
      "execution_count": 45,
      "outputs": [
        {
          "output_type": "stream",
          "name": "stdout",
          "text": [
            "--2024-08-15 08:08:34--  https://www.dropbox.com/scl/fi/2m5ryuhbe47c1pvxdzb1s/Fake_True.csv?rlkey=26jlrf2aghxcrtcocsu1ftsyv\n",
            "Resolving www.dropbox.com (www.dropbox.com)... 162.125.65.18, 2620:100:6017:18::a27d:212\n",
            "Connecting to www.dropbox.com (www.dropbox.com)|162.125.65.18|:443... connected.\n",
            "HTTP request sent, awaiting response... 302 Found\n",
            "Location: https://ucc2de828651aea021073e746860.dl.dropboxusercontent.com/cd/0/inline/CYplpdvsHOpPB5MaZxirrnsf61nuO29HyBM-kteqzQuTxBRti75w3BxsqhC2VkvXc-Ore17QXYQpJFAk5nlYc2myM9w5KkwG1OwJakZDswMFVEdgwNyoVbbZc3g2aAjNDOcMc1OVxBCpHmBsqA3AHXGO/file# [following]\n",
            "--2024-08-15 08:08:35--  https://ucc2de828651aea021073e746860.dl.dropboxusercontent.com/cd/0/inline/CYplpdvsHOpPB5MaZxirrnsf61nuO29HyBM-kteqzQuTxBRti75w3BxsqhC2VkvXc-Ore17QXYQpJFAk5nlYc2myM9w5KkwG1OwJakZDswMFVEdgwNyoVbbZc3g2aAjNDOcMc1OVxBCpHmBsqA3AHXGO/file\n",
            "Resolving ucc2de828651aea021073e746860.dl.dropboxusercontent.com (ucc2de828651aea021073e746860.dl.dropboxusercontent.com)... 162.125.2.15, 2620:100:6017:15::a27d:20f\n",
            "Connecting to ucc2de828651aea021073e746860.dl.dropboxusercontent.com (ucc2de828651aea021073e746860.dl.dropboxusercontent.com)|162.125.2.15|:443... connected.\n",
            "HTTP request sent, awaiting response... 200 OK\n",
            "Length: 78546013 (75M) [text/plain]\n",
            "Saving to: ‘Fake_True.csv’\n",
            "\n",
            "Fake_True.csv       100%[===================>]  74.91M  41.4MB/s    in 1.8s    \n",
            "\n",
            "2024-08-15 08:08:37 (41.4 MB/s) - ‘Fake_True.csv’ saved [78546013/78546013]\n",
            "\n"
          ]
        }
      ]
    },
    {
      "cell_type": "code",
      "source": [
        "df = pd.read_csv(\"Fake_True.csv\")\n",
        "df = df.drop(df.columns[0], axis=1)\n",
        "df =  df.dropna()\n",
        "#df[df.columns[0]] = range(0, len(df))"
      ],
      "metadata": {
        "id": "PBh03RXh_1Ww"
      },
      "execution_count": 63,
      "outputs": []
    },
    {
      "cell_type": "code",
      "source": [
        "df.info()"
      ],
      "metadata": {
        "colab": {
          "base_uri": "https://localhost:8080/"
        },
        "id": "VzGbUExtAA98",
        "outputId": "1409d332-47df-424b-f29c-3d317f659045"
      },
      "execution_count": 64,
      "outputs": [
        {
          "output_type": "stream",
          "name": "stdout",
          "text": [
            "<class 'pandas.core.frame.DataFrame'>\n",
            "Index: 42832 entries, 0 to 42833\n",
            "Data columns (total 5 columns):\n",
            " #   Column       Non-Null Count  Dtype \n",
            "---  ------       --------------  ----- \n",
            " 0   title        42832 non-null  object\n",
            " 1   text         42832 non-null  object\n",
            " 2   subject      42832 non-null  object\n",
            " 3   date         42832 non-null  object\n",
            " 4   reliability  42832 non-null  int64 \n",
            "dtypes: int64(1), object(4)\n",
            "memory usage: 2.0+ MB\n"
          ]
        }
      ]
    },
    {
      "cell_type": "code",
      "source": [
        "df.index = range(0,len(df))"
      ],
      "metadata": {
        "id": "9P1cc0MjHUDv"
      },
      "execution_count": 68,
      "outputs": []
    },
    {
      "cell_type": "code",
      "source": [],
      "metadata": {
        "colab": {
          "base_uri": "https://localhost:8080/",
          "height": 127
        },
        "id": "sVNAJrmOGRXd",
        "outputId": "fbb2383b-668c-4e72-c516-58df9c6ac046"
      },
      "execution_count": 72,
      "outputs": [
        {
          "output_type": "execute_result",
          "data": {
            "text/plain": [
              "'washington reuters head conservative republican faction u.s. congress voted month huge expansion national debt pay tax cut called fiscal conservative sunday urged budget restraint 2018. keeping sharp pivot way among republican u.s. representative mark meadow speaking cbs face nation drew hard line federal spending lawmaker bracing battle january . return holiday wednesday lawmaker begin trying pas federal budget fight likely linked issue immigration policy even november congressional election campaign approach republican seek keep control congress . president donald trump republican want big budget increase military spending democrat also want proportional increase non defense discretionary spending program support education scientific research infrastructure public health environmental protection . trump administration already willing say going increase non defense discretionary spending ... 7 percent meadow chairman small influential house freedom caucus said program . democrat saying enough need give government pay raise 10 11 percent . fiscal conservative see rationale . ... eventually run people money said . meadow among republican voted late december party debt financed tax overhaul expected balloon federal budget deficit add 1.5 trillion 10 year 20 trillion national debt . interesting hear mark talk fiscal responsibility democratic u.s. representative joseph crowley said cbs . crowley said republican tax bill would require united state borrow 1.5 trillion paid future generation finance tax cut corporation rich . one least ... fiscally responsible bill ever seen passed history house representative . think going paying many many year come crowley said . republican insist tax package biggest u.s. tax overhaul 30 year boost economy job growth . house speaker paul ryan also supported tax bill recently went meadow making clear radio interview welfare entitlement reform party often call would top republican priority 2018. republican parlance entitlement program mean food stamp housing assistance medicare medicaid health insurance elderly poor disabled well program created washington assist needy . democrat seized ryan early december remark saying showed republican would try pay tax overhaul seeking spending cut social program . goal house republican may take back seat senate vote democrat needed approve budget prevent government shutdown . democrat use leverage senate republican narrowly control defend discretionary non defense program social spending tackling issue dreamer people brought illegally country child . trump september put march 2018 expiration date deferred action childhood arrival daca program protects young immigrant deportation provides work permit . president said recent twitter message want funding proposed mexican border wall immigration law change exchange agreeing help dreamer . representative debbie dingell told cbs favor linking issue policy objective wall funding . need daca clean said . wednesday trump aide meet congressional leader discus issue . followed weekend strategy session trump republican leader jan. 6 7 white house said . trump also scheduled meet sunday florida republican governor rick scott want emergency aid . house passed 81 billion aid package hurricane florida texas puerto rico wildfire california . package far exceeded 44 billion requested trump administration . senate yet voted aid .'"
            ],
            "application/vnd.google.colaboratory.intrinsic+json": {
              "type": "string"
            }
          },
          "metadata": {},
          "execution_count": 72
        }
      ]
    },
    {
      "cell_type": "code",
      "source": [
        "X = list()\n",
        "for i in range(0, len(df)):\n",
        "  raw = list(df.loc[i][1:-1])\n",
        "  X.append( raw )"
      ],
      "metadata": {
        "id": "6jgUrRU9ACUE"
      },
      "execution_count": 73,
      "outputs": []
    },
    {
      "cell_type": "code",
      "source": [],
      "metadata": {
        "id": "-bv2Ny5ZC2B2"
      },
      "execution_count": 73,
      "outputs": []
    },
    {
      "cell_type": "code",
      "source": [
        "texts = []\n",
        "for i in range(len(X)):\n",
        "  texts.append(' '.join(X[i]))\n",
        "labels = list(df[df.columns[-1]])"
      ],
      "metadata": {
        "id": "sR4QSWOdCxCe"
      },
      "execution_count": 75,
      "outputs": []
    },
    {
      "cell_type": "code",
      "source": [],
      "metadata": {
        "id": "aRScft1XEHNU"
      },
      "execution_count": 75,
      "outputs": []
    },
    {
      "cell_type": "code",
      "source": [
        "import nltk\n",
        "from nltk.corpus import movie_reviews\n",
        "from sklearn.feature_extraction.text import CountVectorizer\n",
        "from sklearn.naive_bayes import MultinomialNB\n",
        "from sklearn.metrics import accuracy_score"
      ],
      "metadata": {
        "id": "d6sMlfN5CNyd"
      },
      "execution_count": 76,
      "outputs": []
    },
    {
      "cell_type": "code",
      "source": [
        "vectorizer = CountVectorizer()\n",
        "bow = vectorizer.fit_transform(texts)\n"
      ],
      "metadata": {
        "id": "D9geqFXnBxAy"
      },
      "execution_count": 78,
      "outputs": []
    },
    {
      "cell_type": "code",
      "source": [
        "from sklearn.model_selection import train_test_split\n",
        "X_train, X_test, y_train, y_test = train_test_split(bow, labels, test_size=0.5)"
      ],
      "metadata": {
        "id": "lAxr8jO-BzQO"
      },
      "execution_count": 83,
      "outputs": []
    },
    {
      "cell_type": "code",
      "source": [
        "classifier = MultinomialNB()\n",
        "classifier.fit(X_train, y_train)"
      ],
      "metadata": {
        "colab": {
          "base_uri": "https://localhost:8080/",
          "height": 74
        },
        "id": "H1QVSz5TCE8g",
        "outputId": "15469bbe-697d-44c9-d9ea-c7fddb7e9775"
      },
      "execution_count": 84,
      "outputs": [
        {
          "output_type": "execute_result",
          "data": {
            "text/plain": [
              "MultinomialNB()"
            ],
            "text/html": [
              "<style>#sk-container-id-2 {color: black;}#sk-container-id-2 pre{padding: 0;}#sk-container-id-2 div.sk-toggleable {background-color: white;}#sk-container-id-2 label.sk-toggleable__label {cursor: pointer;display: block;width: 100%;margin-bottom: 0;padding: 0.3em;box-sizing: border-box;text-align: center;}#sk-container-id-2 label.sk-toggleable__label-arrow:before {content: \"▸\";float: left;margin-right: 0.25em;color: #696969;}#sk-container-id-2 label.sk-toggleable__label-arrow:hover:before {color: black;}#sk-container-id-2 div.sk-estimator:hover label.sk-toggleable__label-arrow:before {color: black;}#sk-container-id-2 div.sk-toggleable__content {max-height: 0;max-width: 0;overflow: hidden;text-align: left;background-color: #f0f8ff;}#sk-container-id-2 div.sk-toggleable__content pre {margin: 0.2em;color: black;border-radius: 0.25em;background-color: #f0f8ff;}#sk-container-id-2 input.sk-toggleable__control:checked~div.sk-toggleable__content {max-height: 200px;max-width: 100%;overflow: auto;}#sk-container-id-2 input.sk-toggleable__control:checked~label.sk-toggleable__label-arrow:before {content: \"▾\";}#sk-container-id-2 div.sk-estimator input.sk-toggleable__control:checked~label.sk-toggleable__label {background-color: #d4ebff;}#sk-container-id-2 div.sk-label input.sk-toggleable__control:checked~label.sk-toggleable__label {background-color: #d4ebff;}#sk-container-id-2 input.sk-hidden--visually {border: 0;clip: rect(1px 1px 1px 1px);clip: rect(1px, 1px, 1px, 1px);height: 1px;margin: -1px;overflow: hidden;padding: 0;position: absolute;width: 1px;}#sk-container-id-2 div.sk-estimator {font-family: monospace;background-color: #f0f8ff;border: 1px dotted black;border-radius: 0.25em;box-sizing: border-box;margin-bottom: 0.5em;}#sk-container-id-2 div.sk-estimator:hover {background-color: #d4ebff;}#sk-container-id-2 div.sk-parallel-item::after {content: \"\";width: 100%;border-bottom: 1px solid gray;flex-grow: 1;}#sk-container-id-2 div.sk-label:hover label.sk-toggleable__label {background-color: #d4ebff;}#sk-container-id-2 div.sk-serial::before {content: \"\";position: absolute;border-left: 1px solid gray;box-sizing: border-box;top: 0;bottom: 0;left: 50%;z-index: 0;}#sk-container-id-2 div.sk-serial {display: flex;flex-direction: column;align-items: center;background-color: white;padding-right: 0.2em;padding-left: 0.2em;position: relative;}#sk-container-id-2 div.sk-item {position: relative;z-index: 1;}#sk-container-id-2 div.sk-parallel {display: flex;align-items: stretch;justify-content: center;background-color: white;position: relative;}#sk-container-id-2 div.sk-item::before, #sk-container-id-2 div.sk-parallel-item::before {content: \"\";position: absolute;border-left: 1px solid gray;box-sizing: border-box;top: 0;bottom: 0;left: 50%;z-index: -1;}#sk-container-id-2 div.sk-parallel-item {display: flex;flex-direction: column;z-index: 1;position: relative;background-color: white;}#sk-container-id-2 div.sk-parallel-item:first-child::after {align-self: flex-end;width: 50%;}#sk-container-id-2 div.sk-parallel-item:last-child::after {align-self: flex-start;width: 50%;}#sk-container-id-2 div.sk-parallel-item:only-child::after {width: 0;}#sk-container-id-2 div.sk-dashed-wrapped {border: 1px dashed gray;margin: 0 0.4em 0.5em 0.4em;box-sizing: border-box;padding-bottom: 0.4em;background-color: white;}#sk-container-id-2 div.sk-label label {font-family: monospace;font-weight: bold;display: inline-block;line-height: 1.2em;}#sk-container-id-2 div.sk-label-container {text-align: center;}#sk-container-id-2 div.sk-container {/* jupyter's `normalize.less` sets `[hidden] { display: none; }` but bootstrap.min.css set `[hidden] { display: none !important; }` so we also need the `!important` here to be able to override the default hidden behavior on the sphinx rendered scikit-learn.org. See: https://github.com/scikit-learn/scikit-learn/issues/21755 */display: inline-block !important;position: relative;}#sk-container-id-2 div.sk-text-repr-fallback {display: none;}</style><div id=\"sk-container-id-2\" class=\"sk-top-container\"><div class=\"sk-text-repr-fallback\"><pre>MultinomialNB()</pre><b>In a Jupyter environment, please rerun this cell to show the HTML representation or trust the notebook. <br />On GitHub, the HTML representation is unable to render, please try loading this page with nbviewer.org.</b></div><div class=\"sk-container\" hidden><div class=\"sk-item\"><div class=\"sk-estimator sk-toggleable\"><input class=\"sk-toggleable__control sk-hidden--visually\" id=\"sk-estimator-id-2\" type=\"checkbox\" checked><label for=\"sk-estimator-id-2\" class=\"sk-toggleable__label sk-toggleable__label-arrow\">MultinomialNB</label><div class=\"sk-toggleable__content\"><pre>MultinomialNB()</pre></div></div></div></div></div>"
            ]
          },
          "metadata": {},
          "execution_count": 84
        }
      ]
    },
    {
      "cell_type": "code",
      "source": [
        "predictions = classifier.predict(X_test)\n",
        "print(\"Accuracy:\", accuracy_score(y_test, predictions))"
      ],
      "metadata": {
        "colab": {
          "base_uri": "https://localhost:8080/"
        },
        "id": "es_Kv2HyITlq",
        "outputId": "b0ccf6c1-46d1-4b9c-c4f7-e7ff55604695"
      },
      "execution_count": 85,
      "outputs": [
        {
          "output_type": "stream",
          "name": "stdout",
          "text": [
            "Accuracy: 0.336430706014195\n"
          ]
        }
      ]
    },
    {
      "cell_type": "code",
      "source": [],
      "metadata": {
        "id": "fhU4wO-nIasJ"
      },
      "execution_count": null,
      "outputs": []
    }
  ]
}